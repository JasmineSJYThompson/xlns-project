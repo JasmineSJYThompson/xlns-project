{
 "cells": [
  {
   "cell_type": "code",
   "execution_count": 145,
   "id": "21f76f5e-ce01-47fb-809c-5b4b49fef38d",
   "metadata": {},
   "outputs": [],
   "source": [
    "import xlns as xl\n",
    "import numpy as np\n",
    "import torch\n",
    "import tensorflow as tf"
   ]
  },
  {
   "cell_type": "markdown",
   "id": "29eacab6-6d5e-40f0-8416-1cd0ff3f7c8a",
   "metadata": {},
   "source": [
    "We start out with two Python lists containing the usual float64 values"
   ]
  },
  {
   "cell_type": "code",
   "execution_count": 146,
   "id": "337cb002-38d1-40b1-9a4e-ac81ec9db565",
   "metadata": {},
   "outputs": [],
   "source": [
    "x = [2.0, 3.0]\n",
    "y = [4.0, 5.0]"
   ]
  },
  {
   "cell_type": "markdown",
   "id": "56e002a1-6135-4b13-884e-222da645f520",
   "metadata": {},
   "source": [
    "We convert these to the xlns format format within a numpy array (xlns) and we are able to perform elementwise multiplication in xlnsnp format"
   ]
  },
  {
   "cell_type": "code",
   "execution_count": 147,
   "id": "d786c39f-299f-4fa2-b8e7-9dc59855af0f",
   "metadata": {},
   "outputs": [
    {
     "name": "stdout",
     "output_type": "stream",
     "text": [
      "[xlns(7.999999984266906) xlns(15.000000326665468)]\n"
     ]
    }
   ],
   "source": [
    "x_xl = xl.xlnsnp(x)\n",
    "y_xl = xl.xlnsnp(y)\n",
    "print(x_xl*y_xl)"
   ]
  },
  {
   "cell_type": "markdown",
   "id": "b7a68f9a-c70d-4c87-a02c-39afb58e96f5",
   "metadata": {},
   "source": [
    "We are also able to perform elementwise multiplication in numpy containing float64 format"
   ]
  },
  {
   "cell_type": "code",
   "execution_count": 148,
   "id": "5f70c764-176b-4871-b874-634b3ca7948b",
   "metadata": {},
   "outputs": [
    {
     "name": "stdout",
     "output_type": "stream",
     "text": [
      "float64\n",
      "[ 8. 15.]\n"
     ]
    }
   ],
   "source": [
    "x_np = np.array(x)\n",
    "y_np = np.array(y)\n",
    "print(x_np.dtype)\n",
    "print(x_np*y_np)"
   ]
  },
  {
   "cell_type": "markdown",
   "id": "218866ad-c656-418f-9aa0-96b3794f220d",
   "metadata": {},
   "source": [
    "We are also able to perform elementwise multiplication as torch tensors, but in this case it converts to float32 automatically"
   ]
  },
  {
   "cell_type": "code",
   "execution_count": 149,
   "id": "83fa1c96-20d4-413e-9892-f34d176ae20f",
   "metadata": {},
   "outputs": [
    {
     "name": "stdout",
     "output_type": "stream",
     "text": [
      "torch.float32\n",
      "tensor([ 8., 15.])\n"
     ]
    }
   ],
   "source": [
    "x_torch = torch.tensor(x)\n",
    "y_torch = torch.tensor(y)\n",
    "print(x_torch.dtype)\n",
    "print(x_torch*y_torch)"
   ]
  },
  {
   "cell_type": "markdown",
   "id": "73cf5262-1826-4ef9-8ecc-695670803090",
   "metadata": {},
   "source": [
    "We are also able to perform elementwise multiplication as tensorflow tensors, and in this case we can see that float32 is also used"
   ]
  },
  {
   "cell_type": "code",
   "execution_count": 150,
   "id": "66e3d8bd-43f8-4b9b-b0ad-115c80854f50",
   "metadata": {},
   "outputs": [
    {
     "name": "stdout",
     "output_type": "stream",
     "text": [
      "tf.Tensor([ 8. 15.], shape=(2,), dtype=float32)\n"
     ]
    }
   ],
   "source": [
    "x_tf = tf.constant(x)\n",
    "y_tf = tf.constant(y)\n",
    "print(x_tf*y_tf)"
   ]
  },
  {
   "cell_type": "markdown",
   "id": "5b506815-fa0a-4016-90aa-95da1de6478e",
   "metadata": {},
   "source": [
    "When we wrap our xlnsnp arrays within a numpy array we can see that it is still possible with this nested numpy array setup, to perform elemenwise multiplication\n",
    "using the xlns data format"
   ]
  },
  {
   "cell_type": "code",
   "execution_count": 151,
   "id": "7629081a-4ed1-4ca4-a44d-44e6106fbb24",
   "metadata": {},
   "outputs": [
    {
     "name": "stdout",
     "output_type": "stream",
     "text": [
      "[xlnsnp(7.999999984266906) xlnsnp(15.000000326665468)]\n"
     ]
    }
   ],
   "source": [
    "x_npxl = np.array(x_xl)\n",
    "y_npxl = np.array(y_xl)\n",
    "print(x_npxl*y_npxl)"
   ]
  },
  {
   "cell_type": "markdown",
   "id": "6ebd1aff-ca6f-4cfe-a55c-9b2d62e7ddde",
   "metadata": {},
   "source": [
    "When we use the numpy arrays within our xlnsnp data format it remains unchanged from starting with Python lists, and elementwise multiplication may still be performed"
   ]
  },
  {
   "cell_type": "code",
   "execution_count": 152,
   "id": "d2f25d7b-7586-43a8-9c82-518b8d891e67",
   "metadata": {},
   "outputs": [
    {
     "name": "stdout",
     "output_type": "stream",
     "text": [
      "[xlns(7.999999984266906) xlns(15.000000326665468)]\n"
     ]
    }
   ],
   "source": [
    "x_xlnp = xl.xlnsnp(x_np)\n",
    "y_xlnp = xl.xlnsnp(y_np)\n",
    "print(x_xlnp*y_xlnp)"
   ]
  },
  {
   "cell_type": "markdown",
   "id": "0a46641c-62c6-420a-953a-618adea74369",
   "metadata": {},
   "source": [
    "Demonstrates that when we attempt to convert directly from tensorflow into PyTorch we get an error message (some additional information)"
   ]
  },
  {
   "cell_type": "code",
   "execution_count": 153,
   "id": "4c7c5547-8d90-4352-82db-e1823a97574c",
   "metadata": {},
   "outputs": [
    {
     "name": "stdout",
     "output_type": "stream",
     "text": [
      "Scalar tensor has no `len()`\n"
     ]
    }
   ],
   "source": [
    "try:\n",
    "    x_torchtf = torch.tensor(x_tf)\n",
    "    y_torchtf = torch.tensor(y_tf)\n",
    "    print(x_torchtf*y_torchtf)\n",
    "except TypeError as e:\n",
    "    print(e)"
   ]
  },
  {
   "cell_type": "markdown",
   "id": "cf4bad95-6fc6-4994-a1e4-4c9d3a68a318",
   "metadata": {},
   "source": [
    "Demonstrates that when we attempt to convert from a PyTorch tensor,\n",
    "if we use an explicit converstion from constant data formats then we can turn this into a tensorflow tensor"
   ]
  },
  {
   "cell_type": "code",
   "execution_count": 154,
   "id": "87797ad1-01ff-4075-bf83-4b8f5793c8a0",
   "metadata": {},
   "outputs": [
    {
     "name": "stdout",
     "output_type": "stream",
     "text": [
      "tf.Tensor([ 8. 15.], shape=(2,), dtype=float32)\n"
     ]
    }
   ],
   "source": [
    "x_tftorch = tf.constant(x_torch)\n",
    "y_tftorch = tf.constant(y_torch)\n",
    "print(x_tftorch*y_tftorch)"
   ]
  },
  {
   "cell_type": "markdown",
   "id": "69cb1b0e-1c28-471e-bcfc-fa50b9575762",
   "metadata": {},
   "source": [
    "Shows that when we attempt to use the xlnsnp format as a torch tensor and perform elementwise multiplication that an AttributeError is thrown as numpy.int64 datatype is expected"
   ]
  },
  {
   "cell_type": "code",
   "execution_count": 155,
   "id": "44ad114d-9d6d-4cf4-9a0f-e5a92200fd2a",
   "metadata": {},
   "outputs": [
    {
     "name": "stdout",
     "output_type": "stream",
     "text": [
      "'numpy.int64' object has no attribute '__len__'\n"
     ]
    }
   ],
   "source": [
    "try:\n",
    "    x_torchxl = torch.tensor(x_xl)\n",
    "    y_torchxl = torch.tensor(y_xl)\n",
    "    print(x_torchxl*y_torchxl)\n",
    "except AttributeError as e:\n",
    "    print(e)"
   ]
  },
  {
   "cell_type": "markdown",
   "id": "f12bfcb3-d124-4879-9ef4-90afd1aebc12",
   "metadata": {},
   "source": [
    "Shows that when we attempt to use the xlnsnp format as a tensorflow tensor by converting from an expected constant data format, that it expects numpy.int64 again\n",
    "and will not perform the elementwise multiplication"
   ]
  },
  {
   "cell_type": "code",
   "execution_count": 156,
   "id": "e83a72f0-f9e0-48de-a808-89ac4b27bd10",
   "metadata": {},
   "outputs": [
    {
     "name": "stdout",
     "output_type": "stream",
     "text": [
      "AttributeError: 'numpy.int64' object has no attribute '__len__'\n",
      "Traceback (most recent call last):\n",
      "\n",
      "  File \"/home/jasmine/Documents/JupyterProjects/log_number_system_alaska/.xlns-env/lib/python3.10/site-packages/xlns.py\", line 819, in __len__\n",
      "    return self.nd.__len__()\n",
      "\n",
      "AttributeError: 'numpy.int64' object has no attribute '__len__'. Did you mean: '__le__'?\n",
      "\n",
      "\n"
     ]
    }
   ],
   "source": [
    "try:\n",
    "    x_tfxl= tf.constant(x_xl)\n",
    "    y_tfxl = tf.constant(y_xl)\n",
    "    print(x_tfxl*y_tfxl)\n",
    "except ValueError as e:\n",
    "    print(e)"
   ]
  },
  {
   "cell_type": "markdown",
   "id": "4d20984f-3e7a-46e2-8879-d2ec9eb1cdb7",
   "metadata": {},
   "source": [
    "Conclusion:\n",
    "Numpy is able to support use of the xlns number system throughout, but PyTorch and Tensorflow are both unable to.\n",
    "\n",
    "It appears that when attempting to directly use the xlnsnp number format and convert this to PyTorch and Tensorflow tensors, that numpy 64 bit integers are expected so the conversion cannot be applied.\n",
    "\n",
    "It appears that when we create tensors directly using the initial Python list containing 64 bit floats"
   ]
  },
  {
   "cell_type": "code",
   "execution_count": null,
   "id": "cb513e1f-ce8c-4698-bc2b-191d01997acc",
   "metadata": {},
   "outputs": [],
   "source": []
  }
 ],
 "metadata": {
  "kernelspec": {
   "display_name": "Python 3 (ipykernel)",
   "language": "python",
   "name": "python3"
  },
  "language_info": {
   "codemirror_mode": {
    "name": "ipython",
    "version": 3
   },
   "file_extension": ".py",
   "mimetype": "text/x-python",
   "name": "python",
   "nbconvert_exporter": "python",
   "pygments_lexer": "ipython3",
   "version": "3.10.13"
  }
 },
 "nbformat": 4,
 "nbformat_minor": 5
}
