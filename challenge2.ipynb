{
 "cells": [
  {
   "cell_type": "markdown",
   "id": "452ce4db-e932-41ce-a9cf-c483c63bfa0c",
   "metadata": {},
   "source": [
    "xlns/examples/arn_generic.py is a hard-coded illustration of training a fully connected MLP with 28*28 input nodes, 100 hidden nodes and 10 output nodes using MNIST digit set. The hidden layer uses RELU and the output layer uses softmax."
   ]
  },
  {
   "cell_type": "markdown",
   "id": "18ca9180-b8c5-40ff-839d-77e44c66213d",
   "metadata": {},
   "source": [
    "The code challenge is to implement a similar size fully connected network (in FP) using the provided features of Pytorch or Tensorflow and compare its convergence with arn_generic.py"
   ]
  },
  {
   "cell_type": "code",
   "execution_count": 80,
   "id": "1425837b-f981-4277-a3ef-a7a88ebbc010",
   "metadata": {},
   "outputs": [],
   "source": [
    "# Created using https://pytorch.org/tutorials/beginner/basics/quickstart_tutorial.html as a template"
   ]
  },
  {
   "cell_type": "code",
   "execution_count": 67,
   "id": "1ca9881a-4dcd-476d-ac37-57c690320081",
   "metadata": {},
   "outputs": [],
   "source": [
    "import numpy\n",
    "import get_mnist_data\n",
    "import torch\n",
    "from torch.utils.data import DataLoader\n",
    "import torch.nn as nn\n",
    "from torchvision import datasets\n",
    "from torchvision.transforms import ToTensor"
   ]
  },
  {
   "cell_type": "code",
   "execution_count": 68,
   "id": "10466820-1e84-4dee-9562-01bc06b8e0d4",
   "metadata": {},
   "outputs": [],
   "source": [
    "# Download training data from open datasets.\n",
    "training_data = datasets.MNIST(\n",
    "    root=\"data\",\n",
    "    train=True,\n",
    "    download=False,\n",
    "    transform=ToTensor(),\n",
    ")\n",
    "\n",
    "# Download test data from open datasets.\n",
    "test_data = datasets.MNIST(\n",
    "    root=\"data\",\n",
    "    train=False,\n",
    "    download=False,\n",
    "    transform=ToTensor(),\n",
    ")"
   ]
  },
  {
   "cell_type": "code",
   "execution_count": 69,
   "id": "54a8090d-5350-4bec-9554-918a5813decc",
   "metadata": {},
   "outputs": [
    {
     "name": "stdout",
     "output_type": "stream",
     "text": [
      "Shape of X [N, C, H, W]: torch.Size([64, 1, 28, 28])\n",
      "Shape of y: torch.Size([64]) torch.int64\n"
     ]
    }
   ],
   "source": [
    "batch_size = 64\n",
    "\n",
    "# Create data loaders.\n",
    "train_dataloader = DataLoader(training_data, batch_size=batch_size)\n",
    "test_dataloader = DataLoader(test_data, batch_size=batch_size)\n",
    "\n",
    "for X, y in test_dataloader:\n",
    "    print(f\"Shape of X [N, C, H, W]: {X.shape}\")\n",
    "    print(f\"Shape of y: {y.shape} {y.dtype}\")\n",
    "    break"
   ]
  },
  {
   "cell_type": "code",
   "execution_count": 70,
   "id": "af96a4ed-48ed-4750-b455-911e55968219",
   "metadata": {},
   "outputs": [
    {
     "name": "stdout",
     "output_type": "stream",
     "text": [
      "Using cpu device\n",
      "NeuralNetwork(\n",
      "  (flatten): Flatten(start_dim=1, end_dim=-1)\n",
      "  (linear_relu_stack): Sequential(\n",
      "    (0): Linear(in_features=784, out_features=100, bias=True)\n",
      "    (1): ReLU()\n",
      "    (2): Linear(in_features=100, out_features=10, bias=True)\n",
      "    (3): Softmax(dim=1)\n",
      "  )\n",
      ")\n"
     ]
    }
   ],
   "source": [
    "device = torch.accelerator.current_accelerator().type if torch.accelerator.is_available() else \"cpu\"\n",
    "print(f\"Using {device} device\")\n",
    "\n",
    "class NeuralNetwork(nn.Module):\n",
    "    def __init__(self):\n",
    "        super().__init__()\n",
    "        self.flatten = nn.Flatten()\n",
    "        self.linear_relu_stack = nn.Sequential(\n",
    "            nn.Linear(28*28, 100),\n",
    "            nn.ReLU(),\n",
    "            nn.Linear(100, 10),\n",
    "            nn.Softmax(1)\n",
    "        )\n",
    "\n",
    "    def forward(self, x):\n",
    "        x = self.flatten(x)\n",
    "        logits = self.linear_relu_stack(x)\n",
    "        return logits\n",
    "\n",
    "model = NeuralNetwork().to(device)\n",
    "print(model)"
   ]
  },
  {
   "cell_type": "code",
   "execution_count": 71,
   "id": "d7d8c00a-79f5-4f4f-81cb-4a7cc75afa9b",
   "metadata": {},
   "outputs": [],
   "source": [
    "loss_fn = nn.NLLLoss() # we use negative log likelihood loss as it is the most effective when working with Softmax()\n",
    "#optimizer = torch.optim.Adam(model.parameters(), lr=0.01 we leave out this optimiser as it is un-generic to compare with arn_generic.py\n",
    "optimizer = torch.optim.SGD(model.parameters(), lr=0.01, momentum=0)"
   ]
  },
  {
   "cell_type": "code",
   "execution_count": 72,
   "id": "068f302f-3878-4c4d-b8db-bf72b54ac4ed",
   "metadata": {},
   "outputs": [],
   "source": [
    "def train(dataloader, model, loss_fn, optimizer):\n",
    "    size = len(dataloader.dataset)\n",
    "    model.train()\n",
    "    for batch, (X, y) in enumerate(dataloader):\n",
    "        X, y = X.to(device), y.to(device)\n",
    "\n",
    "        # Compute prediction error\n",
    "        pred = model(X)\n",
    "        loss = loss_fn(pred, y)\n",
    "\n",
    "        # Backpropagation\n",
    "        loss.backward()\n",
    "        optimizer.step()\n",
    "        optimizer.zero_grad()\n",
    "\n",
    "        if batch % 100 == 0:\n",
    "            loss, current = loss.item(), (batch + 1) * len(X)\n",
    "            print(f\"loss: {loss:>7f}  [{current:>5d}/{size:>5d}]\")"
   ]
  },
  {
   "cell_type": "code",
   "execution_count": 73,
   "id": "7b26b00d-c8ee-4c5c-b6a0-f88ccbce2d99",
   "metadata": {},
   "outputs": [],
   "source": [
    "def test(dataloader, model, loss_fn):\n",
    "    size = len(dataloader.dataset)\n",
    "    num_batches = len(dataloader)\n",
    "    model.eval()\n",
    "    test_loss, correct = 0, 0\n",
    "    with torch.no_grad():\n",
    "        for X, y in dataloader:\n",
    "            X, y = X.to(device), y.to(device)\n",
    "            pred = model(X)\n",
    "            test_loss += loss_fn(pred, y).item()\n",
    "            correct += (pred.argmax(1) == y).type(torch.float).sum().item()\n",
    "    test_loss /= num_batches\n",
    "    correct /= size\n",
    "    print(f\"Test Error: \\n Accuracy: {(100*correct):>0.1f}%, Avg loss: {test_loss:>8f} \\n\")"
   ]
  },
  {
   "cell_type": "code",
   "execution_count": 74,
   "id": "82e49a0f-34a7-406d-9ccd-32e06bd24e02",
   "metadata": {},
   "outputs": [
    {
     "name": "stdout",
     "output_type": "stream",
     "text": [
      "Epoch 1\n",
      "-------------------------------\n",
      "loss: -0.099548  [   64/60000]\n",
      "loss: -0.100496  [ 6464/60000]\n",
      "loss: -0.105713  [12864/60000]\n",
      "loss: -0.106075  [19264/60000]\n",
      "loss: -0.107811  [25664/60000]\n",
      "loss: -0.109539  [32064/60000]\n",
      "loss: -0.116388  [38464/60000]\n",
      "loss: -0.109790  [44864/60000]\n",
      "loss: -0.117082  [51264/60000]\n",
      "loss: -0.129415  [57664/60000]\n",
      "Test Error: \n",
      " Accuracy: 41.0%, Avg loss: -0.125925 \n",
      "\n",
      "Epoch 2\n",
      "-------------------------------\n",
      "loss: -0.124308  [   64/60000]\n",
      "loss: -0.129888  [ 6464/60000]\n",
      "loss: -0.139337  [12864/60000]\n",
      "loss: -0.153044  [19264/60000]\n",
      "loss: -0.154193  [25664/60000]\n",
      "loss: -0.163596  [32064/60000]\n",
      "loss: -0.213258  [38464/60000]\n",
      "loss: -0.183327  [44864/60000]\n",
      "loss: -0.222405  [51264/60000]\n",
      "loss: -0.305358  [57664/60000]\n",
      "Test Error: \n",
      " Accuracy: 47.6%, Avg loss: -0.274966 \n",
      "\n",
      "Epoch 3\n",
      "-------------------------------\n",
      "loss: -0.274817  [   64/60000]\n",
      "loss: -0.327728  [ 6464/60000]\n",
      "loss: -0.320134  [12864/60000]\n",
      "loss: -0.408172  [19264/60000]\n",
      "loss: -0.345002  [25664/60000]\n",
      "loss: -0.358385  [32064/60000]\n",
      "loss: -0.477360  [38464/60000]\n",
      "loss: -0.370193  [44864/60000]\n",
      "loss: -0.440780  [51264/60000]\n",
      "loss: -0.542810  [57664/60000]\n",
      "Test Error: \n",
      " Accuracy: 61.2%, Avg loss: -0.498817 \n",
      "\n",
      "Epoch 4\n",
      "-------------------------------\n",
      "loss: -0.494352  [   64/60000]\n",
      "loss: -0.535220  [ 6464/60000]\n",
      "loss: -0.526599  [12864/60000]\n",
      "loss: -0.585923  [19264/60000]\n",
      "loss: -0.501216  [25664/60000]\n",
      "loss: -0.487282  [32064/60000]\n",
      "loss: -0.610089  [38464/60000]\n",
      "loss: -0.483737  [44864/60000]\n",
      "loss: -0.527174  [51264/60000]\n",
      "loss: -0.626337  [57664/60000]\n",
      "Test Error: \n",
      " Accuracy: 65.4%, Avg loss: -0.586438 \n",
      "\n",
      "Epoch 5\n",
      "-------------------------------\n",
      "loss: -0.576964  [   64/60000]\n",
      "loss: -0.595890  [ 6464/60000]\n",
      "loss: -0.607560  [12864/60000]\n",
      "loss: -0.647665  [19264/60000]\n",
      "loss: -0.553375  [25664/60000]\n",
      "loss: -0.523798  [32064/60000]\n",
      "loss: -0.650807  [38464/60000]\n",
      "loss: -0.530653  [44864/60000]\n",
      "loss: -0.560821  [51264/60000]\n",
      "loss: -0.657027  [57664/60000]\n",
      "Test Error: \n",
      " Accuracy: 66.0%, Avg loss: -0.619269 \n",
      "\n",
      "Done!\n",
      "CPU times: user 2min 25s, sys: 53 ms, total: 2min 25s\n",
      "Wall time: 36.5 s\n"
     ]
    }
   ],
   "source": [
    "%%time\n",
    "\n",
    "epochs = 5\n",
    "for t in range(epochs):\n",
    "    print(f\"Epoch {t+1}\\n-------------------------------\")\n",
    "    train(train_dataloader, model, loss_fn, optimizer)\n",
    "    test(test_dataloader, model, loss_fn)\n",
    "print(\"Done!\")"
   ]
  },
  {
   "cell_type": "code",
   "execution_count": 76,
   "id": "b3b31d56-622a-4369-af1a-48712051b3bf",
   "metadata": {},
   "outputs": [
    {
     "name": "stdout",
     "output_type": "stream",
     "text": [
      ".\n"
     ]
    }
   ],
   "source": [
    "# We write this here because each time we run the optimiser we get slightly different results\n",
    "# these are the results that I am going with as they are from using generic SGD rather than Adam as the optimiser\n",
    "\"\"\"\n",
    "Test Error: \n",
    " Accuracy: 66.0%, Avg loss: -0.619269 \n",
    "\n",
    "Done!\n",
    "CPU times: user 2min 25s, sys: 53 ms, total: 2min 25s\n",
    "Wall time: 36.5 s\n",
    "\"\"\"\n",
    "print(\".\")"
   ]
  },
  {
   "cell_type": "code",
   "execution_count": 77,
   "id": "a0db8a70-7fea-40c5-b9dd-8909266481fe",
   "metadata": {},
   "outputs": [
    {
     "name": "stdout",
     "output_type": "stream",
     "text": [
      "Predicted: \"7\", Actual: \"7\"\n"
     ]
    }
   ],
   "source": [
    "model.eval()\n",
    "x, y = test_data[0][0], test_data[0][1]\n",
    "with torch.no_grad():\n",
    "    x = x.to(device)\n",
    "    pred = model(x)\n",
    "    predicted, actual = pred[0].argmax(0), y\n",
    "    print(f'Predicted: \"{predicted}\", Actual: \"{actual}\"')"
   ]
  },
  {
   "cell_type": "code",
   "execution_count": 78,
   "id": "f7a7a115-c2f9-43ad-98cf-239452abb0b9",
   "metadata": {},
   "outputs": [
    {
     "name": "stdout",
     "output_type": "stream",
     "text": [
      ".\n"
     ]
    }
   ],
   "source": [
    "# Note: This code should not run\n",
    "# Output from shell:\n",
    "\"\"\"\n",
    "python arn_generic.py --type float --num_epoch 5\n",
    "arbitrary base np LNS. Also xl.hstack, xl. routines in softmax\n",
    "testing new softmax and * instead of @ for delta\n",
    "works with type float\n",
    "#= 50  xlns b= two   F= 10  B= 1.0006771306930664  batch= 1  lr= 0.01\n",
    "using ./weightin.npz\n",
    "At Epoch 1:\n",
    "#= 50  xlns b= two   F= 10  B= 1.0006771306930664  batch= 1  lr= 0.01\n",
    "train-set accuracy at epoch 1: 0.540000\n",
    "Val-set accuracy at epoch 1: 0.220000\n",
    "At Epoch 2:\n",
    "#= 50  xlns b= two   F= 10  B= 1.0006771306930664  batch= 1  lr= 0.01\n",
    "train-set accuracy at epoch 2: 0.700000\n",
    "Val-set accuracy at epoch 2: 0.400000\n",
    "At Epoch 3:\n",
    "#= 50  xlns b= two   F= 10  B= 1.0006771306930664  batch= 1  lr= 0.01\n",
    "train-set accuracy at epoch 3: 0.860000\n",
    "Val-set accuracy at epoch 3: 0.520000\n",
    "At Epoch 4:\n",
    "#= 50  xlns b= two   F= 10  B= 1.0006771306930664  batch= 1  lr= 0.01\n",
    "train-set accuracy at epoch 4: 0.900000\n",
    "Val-set accuracy at epoch 4: 0.540000\n",
    "At Epoch 5:\n",
    "#= 50  xlns b= two   F= 10  B= 1.0006771306930664  batch= 1  lr= 0.01\n",
    "train-set accuracy at epoch 5: 0.920000\n",
    "Val-set accuracy at epoch 5: 0.560000\n",
    "elasped time=0.14431134099999987\n",
    "\"\"\"\n",
    "print(\".\")"
   ]
  },
  {
   "cell_type": "code",
   "execution_count": 79,
   "id": "398bccd7-1ea5-4ad7-87b9-0dafcb045ca2",
   "metadata": {},
   "outputs": [
    {
     "name": "stdout",
     "output_type": "stream",
     "text": [
      ".\n"
     ]
    }
   ],
   "source": [
    "# Output from shell\n",
    "\"\"\"\n",
    "python arn_generic.py --type xlns --num_epoch 5\n",
    "arbitrary base np LNS. Also xl.hstack, xl. routines in softmax\n",
    "testing new softmax and * instead of @ for delta\n",
    "works with type xlns\n",
    "#= 50  xlns b= two   F= 10  B= 1.0006771306930664  batch= 1  lr= 0.01\n",
    "using ./weightin.npz\n",
    "At Epoch 1:\n",
    "#= 50  xlns b= two   F= 10  B= 1.0006771306930664  batch= 1  lr= 0.01\n",
    "train-set accuracy at epoch 1: 0.540000\n",
    "Val-set accuracy at epoch 1: 0.220000\n",
    "At Epoch 2:\n",
    "#= 50  xlns b= two   F= 10  B= 1.0006771306930664  batch= 1  lr= 0.01\n",
    "train-set accuracy at epoch 2: 0.700000\n",
    "Val-set accuracy at epoch 2: 0.400000\n",
    "At Epoch 3:\n",
    "#= 50  xlns b= two   F= 10  B= 1.0006771306930664  batch= 1  lr= 0.01\n",
    "train-set accuracy at epoch 3: 0.860000\n",
    "Val-set accuracy at epoch 3: 0.520000\n",
    "At Epoch 4:\n",
    "#= 50  xlns b= two   F= 10  B= 1.0006771306930664  batch= 1  lr= 0.01\n",
    "train-set accuracy at epoch 4: 0.900000\n",
    "Val-set accuracy at epoch 4: 0.540000\n",
    "At Epoch 5:\n",
    "#= 50  xlns b= two   F= 10  B= 1.0006771306930664  batch= 1  lr= 0.01\n",
    "train-set accuracy at epoch 5: 0.920000\n",
    "Val-set accuracy at epoch 5: 0.560000\n",
    "elasped time=539.710699353\n",
    "\"\"\"\n",
    "print(\".\")"
   ]
  },
  {
   "cell_type": "markdown",
   "id": "6123b093-044b-42a3-b4db-0e58a0c972bc",
   "metadata": {},
   "source": [
    " - arn_generic.py with float: 62% train set accuracy after 5 epochs and 0.14 seconds\n",
    " - arn_generic.py with xlns: 56% test set accuracy after 5 epochs and 9 minutes\n",
    " - torch with float: 66% test set accuracy after 5 epochs and 2 minutes 25 seconds"
   ]
  },
  {
   "cell_type": "code",
   "execution_count": null,
   "id": "aa8637b0-6d67-461b-a917-e8f35179ee2c",
   "metadata": {},
   "outputs": [],
   "source": []
  }
 ],
 "metadata": {
  "kernelspec": {
   "display_name": "Python 3 (ipykernel)",
   "language": "python",
   "name": "python3"
  },
  "language_info": {
   "codemirror_mode": {
    "name": "ipython",
    "version": 3
   },
   "file_extension": ".py",
   "mimetype": "text/x-python",
   "name": "python",
   "nbconvert_exporter": "python",
   "pygments_lexer": "ipython3",
   "version": "3.10.13"
  }
 },
 "nbformat": 4,
 "nbformat_minor": 5
}
