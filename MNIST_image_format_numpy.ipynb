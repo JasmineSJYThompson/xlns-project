{
 "cells": [
  {
   "cell_type": "code",
   "execution_count": 5,
   "id": "c432ca3a-c71a-44b3-a4ea-1604b07355a0",
   "metadata": {},
   "outputs": [],
   "source": [
    "import get_mnist_data\n",
    "import mlp_np"
   ]
  },
  {
   "cell_type": "code",
   "execution_count": 6,
   "id": "b6ee1981-c7b7-476b-b739-590aec41a125",
   "metadata": {},
   "outputs": [],
   "source": [
    "import numpy as np"
   ]
  },
  {
   "cell_type": "code",
   "execution_count": 7,
   "id": "003121fe-b870-45eb-9532-11132563e5ad",
   "metadata": {},
   "outputs": [
    {
     "name": "stdout",
     "output_type": "stream",
     "text": [
      "(60000, 28, 28)\n",
      "(60000,)\n",
      "(10000, 28, 28)\n",
      "(10000,)\n",
      "CPU times: user 289 ms, sys: 60.1 ms, total: 349 ms\n",
      "Wall time: 347 ms\n"
     ]
    }
   ],
   "source": [
    "%%time\n",
    "\n",
    "# Retrieve the MNIST data\n",
    "mnist_train_images, mnist_train_labels, mnist_test_images, mnist_test_labels = get_mnist_data.get_mnist_data_numpy_format()\n",
    "\n",
    "# Print shape for verification\n",
    "print(mnist_train_images.shape)  # Should be (60000, 28, 28)\n",
    "print(mnist_train_labels.shape)  # Should be (60000,)\n",
    "print(mnist_test_images.shape)   # Should be (10000, 28, 28)\n",
    "print(mnist_test_labels.shape)   # Should be (10000,)"
   ]
  },
  {
   "cell_type": "code",
   "execution_count": 18,
   "id": "13d23897-da74-4ce6-8104-da71a78e8155",
   "metadata": {},
   "outputs": [
    {
     "name": "stdout",
     "output_type": "stream",
     "text": [
      "[[0.16341979 0.033624   0.26476298 0.06722657 0.14240231 0.12643748\n",
      "  0.0237006  0.10577128 0.03604451 0.03661049]]\n",
      "CPU times: user 5.85 ms, sys: 0 ns, total: 5.85 ms\n",
      "Wall time: 4.49 ms\n"
     ]
    }
   ],
   "source": [
    "%%time\n",
    "\n",
    "# Load the first MNIST training image\n",
    "first_image = mnist_train_images[0].flatten().reshape(1, 784)  # Shape (1, 784)\n",
    "first_image = first_image / 255.0  # Normalize pixel values\n",
    "\n",
    "# Initialize weights\n",
    "W1 = np.random.normal(0, 0.1, (785, 100))  # Input -> Hidden\n",
    "W2 = np.random.normal(0, 0.1, (101, 10))   # Hidden -> Output\n",
    "\n",
    "# Run the feedforward pass\n",
    "Y_pred = mlp_np.feedforward(first_image, W1, W2)\n",
    "\n",
    "# Print output probabilities\n",
    "print(Y_pred)  # Shape: (10, 10), each row is a probability distribution over digits 0-9"
   ]
  },
  {
   "cell_type": "code",
   "execution_count": 19,
   "id": "39468631-a98c-4e87-a86f-87c05eac296c",
   "metadata": {},
   "outputs": [
    {
     "name": "stdout",
     "output_type": "stream",
     "text": [
      "Epoch 0/100, Loss: 2.4682\n",
      "Epoch 10/100, Loss: 0.1633\n",
      "Epoch 20/100, Loss: 0.0229\n",
      "Epoch 30/100, Loss: 0.0120\n",
      "Epoch 40/100, Loss: 0.0081\n",
      "Epoch 50/100, Loss: 0.0061\n",
      "Epoch 60/100, Loss: 0.0049\n",
      "Epoch 70/100, Loss: 0.0041\n",
      "Epoch 80/100, Loss: 0.0035\n",
      "Epoch 90/100, Loss: 0.0031\n",
      "Predicted Label: [5 0 4 1 9 2 1 3 1 4 3 5 3 6 1 7 2 8 6 9]\n",
      "True Label: [5 0 4 1 9 2 1 3 1 4 3 5 3 6 1 7 2 8 6 9]\n",
      "CPU times: user 1.96 s, sys: 2.97 ms, total: 1.97 s\n",
      "Wall time: 286 ms\n"
     ]
    }
   ],
   "source": [
    "%%time\n",
    "\n",
    "# ---- LOAD DATA ----\n",
    "# Select the first 100 samples for training (you can increase this)\n",
    "X_train = mnist_train_images[:100].reshape(100, 784) / 255.0  # Normalize\n",
    "Y_train = mnist_train_labels[:100]  # Labels (0-9)\n",
    "\n",
    "# ---- TRAIN MODEL ----\n",
    "W1, W2, losses = mlp_np.train_nn(X_train, Y_train, W1, W2, epochs=100, lr=0.01)\n",
    "\n",
    "# ---- TESTING ----\n",
    "# Predict the first image\n",
    "predicted_labels = mlp_np.predict(X_train[:20], W1, W2)[0:20]\n",
    "print(\"Predicted Label:\", predicted_labels)\n",
    "print(\"True Label:\", Y_train[0:20])"
   ]
  },
  {
   "cell_type": "code",
   "execution_count": 3,
   "id": "5bcc04dc-c18b-4976-9518-d187552bc073",
   "metadata": {},
   "outputs": [],
   "source": [
    "import xlns as xl"
   ]
  },
  {
   "cell_type": "code",
   "execution_count": 21,
   "id": "e4ffaa82-36bf-40df-b35f-f86a8b21e692",
   "metadata": {},
   "outputs": [
    {
     "name": "stdout",
     "output_type": "stream",
     "text": [
      "nonscalar comparison\n",
      "nonscalar comparison\n",
      "nonscalar comparison\n",
      "nonscalar comparison\n",
      "nonscalar comparison\n",
      "nonscalar comparison\n",
      "nonscalar comparison\n",
      "nonscalar comparison\n",
      "nonscalar comparison\n",
      "[[xlnsnp([xlns(0.0896660603893914)]) xlnsnp([xlns(0.10581346708038011)])\n",
      "  xlnsnp([xlns(0.11242814195245047)]) xlnsnp([xlns(0.09837844510378241)])\n",
      "  xlnsnp([xlns(0.09946285676511078)]) xlnsnp([xlns(0.09522885768438781)])\n",
      "  xlnsnp([xlns(0.08919378748964538)]) xlnsnp([xlns(0.09498263379288038)])\n",
      "  xlnsnp([xlns(0.11001047548333014)]) xlnsnp([xlns(0.1048352931814453)])]]\n",
      "CPU times: user 4.56 s, sys: 7 ms, total: 4.56 s\n",
      "Wall time: 4.56 s\n"
     ]
    }
   ],
   "source": [
    "%%time\n",
    "\n",
    "# Load the first MNIST training image\n",
    "first_image = mnist_train_images[0].flatten().reshape(1, 784)  # Shape (1, 784)\n",
    "first_image = first_image / 255.0  # Normalize pixel values\n",
    "\n",
    "# Initialize weights\n",
    "W1 = xl.xlnsnp(np.random.normal(0, 0.1, (785, 100)))  # Input -> Hidden\n",
    "W2 = xl.xlnsnp(np.random.normal(0, 0.1, (101, 10)))   # Hidden -> Output\n",
    "\n",
    "# Run the feedforward pass\n",
    "Y_pred = mlp_np.feedforward(first_image, W1, W2)\n",
    "\n",
    "# Print output probabilities\n",
    "print(Y_pred)  # Shape: (10, 10), each row is a probability distribution over digits 0-9"
   ]
  },
  {
   "cell_type": "code",
   "execution_count": 8,
   "id": "446dbff6-dc6d-4c1e-bef5-2af252b9a1e9",
   "metadata": {},
   "outputs": [
    {
     "name": "stdout",
     "output_type": "stream",
     "text": [
      "nonscalar comparison\n",
      "nonscalar comparison\n",
      "nonscalar comparison\n",
      "nonscalar comparison\n",
      "nonscalar comparison\n",
      "nonscalar comparison\n",
      "nonscalar comparison\n",
      "nonscalar comparison\n",
      "nonscalar comparison\n",
      "nonscalar comparison\n",
      "nonscalar comparison\n",
      "nonscalar comparison\n",
      "nonscalar comparison\n",
      "nonscalar comparison\n",
      "nonscalar comparison\n",
      "nonscalar comparison\n",
      "nonscalar comparison\n",
      "nonscalar comparison\n",
      "nonscalar comparison\n",
      "nonscalar comparison\n",
      "nonscalar comparison\n",
      "nonscalar comparison\n",
      "nonscalar comparison\n",
      "nonscalar comparison\n",
      "nonscalar comparison\n",
      "nonscalar comparison\n",
      "nonscalar comparison\n",
      "nonscalar comparison\n",
      "nonscalar comparison\n",
      "nonscalar comparison\n",
      "nonscalar comparison\n",
      "nonscalar comparison\n",
      "nonscalar comparison\n",
      "nonscalar comparison\n",
      "nonscalar comparison\n",
      "nonscalar comparison\n",
      "nonscalar comparison\n",
      "nonscalar comparison\n",
      "nonscalar comparison\n",
      "nonscalar comparison\n",
      "nonscalar comparison\n",
      "nonscalar comparison\n",
      "nonscalar comparison\n",
      "nonscalar comparison\n",
      "nonscalar comparison\n",
      "np.sum: [xlns(-11.71025909405102)]\n"
     ]
    },
    {
     "ename": "AttributeError",
     "evalue": "'xlnsnp' object has no attribute 'T'",
     "output_type": "error",
     "traceback": [
      "\u001b[0;31m---------------------------------------------------------------------------\u001b[0m",
      "\u001b[0;31mAttributeError\u001b[0m                            Traceback (most recent call last)",
      "File \u001b[0;32m<timed exec>:12\u001b[0m\n",
      "File \u001b[0;32m~/Documents/JupyterProjects/log_number_system_alaska/mlp_np.py:77\u001b[0m, in \u001b[0;36mtrain_nn\u001b[0;34m(X, Y, W1, W2, epochs, lr)\u001b[0m\n\u001b[1;32m     74\u001b[0m dL_dW2 \u001b[38;5;241m=\u001b[39m H_bias\u001b[38;5;241m.\u001b[39mT \u001b[38;5;241m@\u001b[39m dL_dZ2  \u001b[38;5;66;03m# (101, 10)\u001b[39;00m\n\u001b[1;32m     76\u001b[0m \u001b[38;5;66;03m# Backpropagate to hidden layer\u001b[39;00m\n\u001b[0;32m---> 77\u001b[0m dL_dH \u001b[38;5;241m=\u001b[39m dL_dZ2 \u001b[38;5;241m@\u001b[39m \u001b[43mW2\u001b[49m\u001b[38;5;241;43m.\u001b[39;49m\u001b[43mT\u001b[49m  \u001b[38;5;66;03m# (batch_size, 101)\u001b[39;00m\n\u001b[1;32m     78\u001b[0m dL_dH \u001b[38;5;241m=\u001b[39m dL_dH[:, :\u001b[38;5;241m-\u001b[39m\u001b[38;5;241m1\u001b[39m]  \u001b[38;5;66;03m# Remove bias gradient\u001b[39;00m\n\u001b[1;32m     79\u001b[0m dL_dZ1 \u001b[38;5;241m=\u001b[39m dL_dH \u001b[38;5;241m*\u001b[39m relu_derivative(Z1)  \u001b[38;5;66;03m# (batch_size, 100)\u001b[39;00m\n",
      "\u001b[0;31mAttributeError\u001b[0m: 'xlnsnp' object has no attribute 'T'"
     ]
    }
   ],
   "source": [
    "%%time\n",
    "\n",
    "# ---- LOAD DATA ----\n",
    "# Select the first 100 samples for training (you can increase this)\n",
    "n_samples = 5\n",
    "X_train = mnist_train_images[:n_samples].reshape(n_samples, 784) / 255.0  # Normalize\n",
    "Y_train = mnist_train_labels[:n_samples]  # Labels (0-9)\n",
    "\n",
    "# Initialize weights\n",
    "W1 = xl.xlnsnp(np.random.normal(0, 0.1, (785, 100)))  # Input -> Hidden\n",
    "W2 = xl.xlnsnp(np.random.normal(0, 0.1, (101, 10)))   # Hidden -> Output\n",
    "\n",
    "# ---- TRAIN MODEL ----\n",
    "W1, W2, losses = mlp_np.train_nn(X_train, Y_train, W1, W2, epochs=100, lr=0.01)\n",
    "\n",
    "# ---- TESTING ----\n",
    "# Predict the first image\n",
    "predicted_labels = mlp_np.predict(X_train[:20], W1, W2)[0:20]\n",
    "print(\"Predicted Label:\", predicted_labels)\n",
    "print(\"True Label:\", Y_train[0:20])"
   ]
  },
  {
   "cell_type": "code",
   "execution_count": null,
   "id": "6a0bf7af-a58a-4ffd-823a-bbbe9fa2c9cc",
   "metadata": {},
   "outputs": [],
   "source": []
  }
 ],
 "metadata": {
  "kernelspec": {
   "display_name": "Python 3 (ipykernel)",
   "language": "python",
   "name": "python3"
  },
  "language_info": {
   "codemirror_mode": {
    "name": "ipython",
    "version": 3
   },
   "file_extension": ".py",
   "mimetype": "text/x-python",
   "name": "python",
   "nbconvert_exporter": "python",
   "pygments_lexer": "ipython3",
   "version": "3.10.13"
  }
 },
 "nbformat": 4,
 "nbformat_minor": 5
}
