{
 "cells": [
  {
   "cell_type": "markdown",
   "id": "a16fdf77-c10a-412e-b650-609ea8d86c45",
   "metadata": {},
   "source": [
    "Consider LNS addition (1+2=3 and 3-1=2). The following illustrates the overloaded operator and xlnsnp internal representation (sign is LSB of the int64 value; the log portion is the rest):"
   ]
  },
  {
   "cell_type": "markdown",
   "id": "49a7b769-3f3f-4cb2-a30b-83b6451023ed",
   "metadata": {},
   "source": [
    "This code challenge is to do a similar toy example within the tensor types provided by the framework, which gives a small taste of the difficulty involved in this project."
   ]
  },
  {
   "cell_type": "code",
   "execution_count": 150,
   "id": "390e77e8-c9be-46e8-acec-e67907e8996f",
   "metadata": {},
   "outputs": [],
   "source": [
    "import xlns as xl\n",
    "import numpy as np\n",
    "import torch"
   ]
  },
  {
   "cell_type": "code",
   "execution_count": 151,
   "id": "a18efecc-95c3-41a2-9e46-e2d3b6dd26ea",
   "metadata": {},
   "outputs": [
    {
     "name": "stdout",
     "output_type": "stream",
     "text": [
      "warning changing F after constructor(s) already called\n"
     ]
    }
   ],
   "source": [
    "xl.xlnssetF(23)"
   ]
  },
  {
   "cell_type": "code",
   "execution_count": 152,
   "id": "6483e11d-5370-4283-836a-167d2406697d",
   "metadata": {},
   "outputs": [],
   "source": [
    "def convert_xlns_to_int(xlns):\n",
    "    return 2*np.int64(np.log2(xlns)*2**23)\n",
    "\n",
    "def convert_int_to_xlns(my_int):\n",
    "    return np.pow(2, np.float64(np.float64(np.int64(my_int)/2)/(2**23)))"
   ]
  },
  {
   "cell_type": "code",
   "execution_count": 153,
   "id": "94293f8d-281b-4c33-a6cc-39b7ab4928b2",
   "metadata": {},
   "outputs": [
    {
     "data": {
      "text/plain": [
       "np.float64(2.9999999719267243)"
      ]
     },
     "execution_count": 153,
     "metadata": {},
     "output_type": "execute_result"
    }
   ],
   "source": [
    "np.pow(2, np.float64(np.int64(26591258)/2)/(2**23))"
   ]
  },
  {
   "cell_type": "code",
   "execution_count": 154,
   "id": "90d3db7d-aa9a-4d0e-902d-507f1a012694",
   "metadata": {},
   "outputs": [],
   "source": [
    "x = [2.0, 3.0]\n",
    "x_nd = [16777216, 26591258]"
   ]
  },
  {
   "cell_type": "code",
   "execution_count": 155,
   "id": "48da780e-9cc2-4b74-87dc-5a1f1420c5d5",
   "metadata": {},
   "outputs": [
    {
     "name": "stdout",
     "output_type": "stream",
     "text": [
      "[16777216 26591258]\n",
      "[2.         2.99999997]\n"
     ]
    }
   ],
   "source": [
    "print(convert_xlns_to_int(x))\n",
    "print(convert_int_to_xlns(x_nd))"
   ]
  },
  {
   "cell_type": "code",
   "execution_count": 156,
   "id": "f84306f6-a78d-44a2-9fec-353a92599df5",
   "metadata": {},
   "outputs": [
    {
     "name": "stdout",
     "output_type": "stream",
     "text": [
      "[xlns(1.9999999986889088) xlns(2.9999999688096786)]\n",
      "[16777216 26591258]\n"
     ]
    }
   ],
   "source": [
    "x_xl = xl.xlnsnp([2.0, 3.0])\n",
    "print(x_xl)\n",
    "print(x_xl.nd)"
   ]
  },
  {
   "cell_type": "code",
   "execution_count": 160,
   "id": "2452fe5c-0e12-4593-ba1a-c00149c0b863",
   "metadata": {},
   "outputs": [],
   "source": [
    "def myadd(x,y):\n",
    "    return np.maximum(x,y)+xl.sbdb_ufunc_ideal(\n",
    "        -np.abs(x//2-y//2), (x^y)&1)"
   ]
  },
  {
   "cell_type": "code",
   "execution_count": 164,
   "id": "8e908086-33ce-4900-b714-57d4b1c7602e",
   "metadata": {},
   "outputs": [
    {
     "name": "stdout",
     "output_type": "stream",
     "text": [
      "[33554432 43368474]\n",
      "[4.         5.99999994]\n"
     ]
    }
   ],
   "source": [
    "print(myadd(x_xl.nd, x_xl.nd))\n",
    "print(convert_int_to_xlns(myadd(x_xl.nd, x_xl.nd)))"
   ]
  },
  {
   "cell_type": "code",
   "execution_count": 162,
   "id": "7b052248-7bd1-4d05-84ab-ef90fbf231d4",
   "metadata": {},
   "outputs": [],
   "source": [
    "def myadd_torch(x,y):\n",
    "    return torch.maximum(x,y)+xl.sbdb_ufunc_ideal(\n",
    "        -torch.abs(x//2-y//2), (x^y)&1)"
   ]
  },
  {
   "cell_type": "code",
   "execution_count": 166,
   "id": "ca9c7a6d-9d83-4ef6-a9a1-8a6e4790be2e",
   "metadata": {},
   "outputs": [
    {
     "name": "stdout",
     "output_type": "stream",
     "text": [
      "tensor([33554432, 43368474])\n",
      "[4.         5.99999994]\n"
     ]
    },
    {
     "name": "stderr",
     "output_type": "stream",
     "text": [
      "/tmp/ipykernel_43288/1930358185.py:2: DeprecationWarning: __array_wrap__ must accept context and return_scalar arguments (positionally) in the future. (Deprecated NumPy 2.0)\n",
      "  return torch.maximum(x,y)+xl.sbdb_ufunc_ideal(\n"
     ]
    }
   ],
   "source": [
    "print(myadd_torch(torch.tensor(x_nd), torch.tensor(x_nd)))\n",
    "print(convert_int_to_xlns(\n",
    "    myadd_torch(torch.tensor(x_nd), torch.tensor(x_nd))))"
   ]
  },
  {
   "cell_type": "markdown",
   "id": "c4ce3f0d-5ec8-4f6c-9a10-f94888fe573e",
   "metadata": {},
   "source": [
    "We have demonstrated that it is possible to create similar functionality to the overloaded addition operator in xlnsnp using pytorch tensors rather than numpy ndarrays"
   ]
  },
  {
   "cell_type": "code",
   "execution_count": null,
   "id": "ce7f7243-3a88-4b05-9fb9-92169579b3e8",
   "metadata": {},
   "outputs": [],
   "source": []
  }
 ],
 "metadata": {
  "kernelspec": {
   "display_name": "Python 3 (ipykernel)",
   "language": "python",
   "name": "python3"
  },
  "language_info": {
   "codemirror_mode": {
    "name": "ipython",
    "version": 3
   },
   "file_extension": ".py",
   "mimetype": "text/x-python",
   "name": "python",
   "nbconvert_exporter": "python",
   "pygments_lexer": "ipython3",
   "version": "3.10.13"
  }
 },
 "nbformat": 4,
 "nbformat_minor": 5
}
