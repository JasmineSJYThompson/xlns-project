{
 "cells": [
  {
   "cell_type": "code",
   "execution_count": 8,
   "id": "390e77e8-c9be-46e8-acec-e67907e8996f",
   "metadata": {},
   "outputs": [],
   "source": [
    "import xlns as xl"
   ]
  },
  {
   "cell_type": "code",
   "execution_count": 9,
   "id": "a18efecc-95c3-41a2-9e46-e2d3b6dd26ea",
   "metadata": {},
   "outputs": [
    {
     "name": "stdout",
     "output_type": "stream",
     "text": [
      "warning changing F after constructor(s) already called\n"
     ]
    }
   ],
   "source": [
    "xl.xlnssetF(23)"
   ]
  },
  {
   "cell_type": "code",
   "execution_count": 10,
   "id": "f84306f6-a78d-44a2-9fec-353a92599df5",
   "metadata": {},
   "outputs": [
    {
     "name": "stdout",
     "output_type": "stream",
     "text": [
      "[16777216 26591258]\n"
     ]
    }
   ],
   "source": [
    "x = xl.xlnsnp([2.0, 3.0])\n",
    "print(x.nd)"
   ]
  },
  {
   "cell_type": "code",
   "execution_count": 12,
   "id": "478749f1-df6a-4eb1-a541-09c90c82040d",
   "metadata": {},
   "outputs": [
    {
     "name": "stdout",
     "output_type": "stream",
     "text": [
      "[0 1]\n"
     ]
    }
   ],
   "source": [
    "y = xl.xlnsnp([1., -1.])\n",
    "print(y.nd)"
   ]
  },
  {
   "cell_type": "code",
   "execution_count": 17,
   "id": "c2e246d8-cd5d-4654-8d57-6ae8895dd519",
   "metadata": {},
   "outputs": [
    {
     "name": "stdout",
     "output_type": "stream",
     "text": [
      "2\n"
     ]
    }
   ],
   "source": [
    "print(2^4&1)"
   ]
  },
  {
   "cell_type": "code",
   "execution_count": null,
   "id": "2452fe5c-0e12-4593-ba1a-c00149c0b863",
   "metadata": {},
   "outputs": [],
   "source": []
  }
 ],
 "metadata": {
  "kernelspec": {
   "display_name": "Python 3 (ipykernel)",
   "language": "python",
   "name": "python3"
  },
  "language_info": {
   "codemirror_mode": {
    "name": "ipython",
    "version": 3
   },
   "file_extension": ".py",
   "mimetype": "text/x-python",
   "name": "python",
   "nbconvert_exporter": "python",
   "pygments_lexer": "ipython3",
   "version": "3.10.13"
  }
 },
 "nbformat": 4,
 "nbformat_minor": 5
}
