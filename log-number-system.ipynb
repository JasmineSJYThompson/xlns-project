{
 "cells": [
  {
   "cell_type": "code",
   "execution_count": 1,
   "id": "5e6b193c-d609-42fc-ac9f-fd811ce39c41",
   "metadata": {},
   "outputs": [
    {
     "name": "stderr",
     "output_type": "stream",
     "text": [
      "2025-04-03 23:47:42.271048: E external/local_xla/xla/stream_executor/cuda/cuda_fft.cc:467] Unable to register cuFFT factory: Attempting to register factory for plugin cuFFT when one has already been registered\n",
      "WARNING: All log messages before absl::InitializeLog() is called are written to STDERR\n",
      "E0000 00:00:1743720462.291451  120231 cuda_dnn.cc:8579] Unable to register cuDNN factory: Attempting to register factory for plugin cuDNN when one has already been registered\n",
      "E0000 00:00:1743720462.297779  120231 cuda_blas.cc:1407] Unable to register cuBLAS factory: Attempting to register factory for plugin cuBLAS when one has already been registered\n",
      "W0000 00:00:1743720462.313974  120231 computation_placer.cc:177] computation placer already registered. Please check linkage and avoid linking the same target more than once.\n",
      "W0000 00:00:1743720462.313997  120231 computation_placer.cc:177] computation placer already registered. Please check linkage and avoid linking the same target more than once.\n",
      "W0000 00:00:1743720462.313999  120231 computation_placer.cc:177] computation placer already registered. Please check linkage and avoid linking the same target more than once.\n",
      "W0000 00:00:1743720462.314001  120231 computation_placer.cc:177] computation placer already registered. Please check linkage and avoid linking the same target more than once.\n",
      "2025-04-03 23:47:42.319314: I tensorflow/core/platform/cpu_feature_guard.cc:210] This TensorFlow binary is optimized to use available CPU instructions in performance-critical operations.\n",
      "To enable the following instructions: AVX2 FMA, in other operations, rebuild TensorFlow with the appropriate compiler flags.\n"
     ]
    }
   ],
   "source": [
    "import torch\n",
    "import torch.nn as nn\n",
    "import tensorflow\n",
    "import xlns as xl\n",
    "import numpy as np"
   ]
  },
  {
   "cell_type": "code",
   "execution_count": 2,
   "id": "b70c86e3-db26-4f37-91dd-257ab48496fb",
   "metadata": {},
   "outputs": [],
   "source": [
    "import project1"
   ]
  },
  {
   "cell_type": "code",
   "execution_count": 4,
   "id": "ec018d7b-f6a7-49d5-8e8f-de740a549054",
   "metadata": {},
   "outputs": [
    {
     "name": "stdout",
     "output_type": "stream",
     "text": [
      "x: [xlns(1.9999999986889088) xlns(2.9999999688096786)] x integer-form: [16777216 26591258]\n",
      "y: [xlns(1.9999999986889088) xlns(3.9999999947556355)] y integer-form: [16777216 33554432]\n",
      "Sum: [xlns(3.9999999947556355) xlns(7.000000011403832)] Sum integer-form: [33554432 60145690]\n",
      "Difference: [xlns(-1.6525915230964852e-07) xlns(-1.0)] Difference integer-form: [       0 -6963174]\n",
      "Product: [xlns(3.9999999947556355) xlns(11.999999859505621)] Product integer-form: [281474976710656 892254558355456]\n",
      "Quotient: [xlns(1.0) xlns(0.7499999931857381)] Quotient integer-form: [281474976710656 892254558355456]\n"
     ]
    }
   ],
   "source": [
    "project1.main()"
   ]
  },
  {
   "cell_type": "code",
   "execution_count": null,
   "id": "367b0ea9-555f-44e2-b62a-07f8e20fb419",
   "metadata": {},
   "outputs": [],
   "source": []
  }
 ],
 "metadata": {
  "kernelspec": {
   "display_name": "Python 3 (ipykernel)",
   "language": "python",
   "name": "python3"
  },
  "language_info": {
   "codemirror_mode": {
    "name": "ipython",
    "version": 3
   },
   "file_extension": ".py",
   "mimetype": "text/x-python",
   "name": "python",
   "nbconvert_exporter": "python",
   "pygments_lexer": "ipython3",
   "version": "3.10.13"
  }
 },
 "nbformat": 4,
 "nbformat_minor": 5
}
